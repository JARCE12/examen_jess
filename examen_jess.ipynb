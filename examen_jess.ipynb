{
 "cells": [
  {
   "cell_type": "code",
   "execution_count": 1,
   "metadata": {},
   "outputs": [
    {
     "data": {
      "text/plain": [
       "['a', 'z', 'ef', 'zc', 'def']"
      ]
     },
     "execution_count": 1,
     "metadata": {},
     "output_type": "execute_result"
    }
   ],
   "source": [
    "def sort_list(list):    \n",
    "    return sorted(sorted(list),key= len)\n",
    "    \n",
    "list_ = ['a', 'zc', 'def', 'z', 'ef']\n",
    "sort_list(list_)"
   ]
  },
  {
   "cell_type": "code",
   "execution_count": 2,
   "metadata": {},
   "outputs": [
    {
     "name": "stdout",
     "output_type": "stream",
     "text": [
      "m = -0.5000000000000007, b = 5.500000000000002\n"
     ]
    }
   ],
   "source": [
    "from numpy import ones,vstack\n",
    "from numpy.linalg import lstsq\n",
    "   \n",
    "def calcular_linea(pointA, pointB):\n",
    "\tpoints = [pointA, pointB]\n",
    "\tx_coords, y_coords = zip(*points)\n",
    "\tA = vstack([x_coords,ones(len(x_coords))]).T\n",
    "\tm, c = lstsq(A, y_coords,rcond=-1)[0]\n",
    "\treturn (m, c)\n",
    "\n",
    "pendiente, intereccion_y = calcular_linea((1,5),(3,4))\n",
    "\n",
    "print(\"m = {}, b = {}\".format(pendiente,intereccion_y))"
   ]
  },
  {
   "cell_type": "code",
   "execution_count": 3,
   "metadata": {},
   "outputs": [
    {
     "name": "stdout",
     "output_type": "stream",
     "text": [
      "A      \n",
      "AB     \n",
      "ABC    \n",
      "ABCD   \n",
      "ABCDE  \n",
      "ABCDEF \n",
      "ABCDEFG\n"
     ]
    }
   ],
   "source": [
    "#generador de palabras aleatorias\n",
    "abecedario=[\"A\",\"B\",\"C\",\"D\",\"E\",\"F\",\"G\"]\n",
    "\n",
    "linea=[]\n",
    "for i in range(len(abecedario)):\n",
    "    result=\"\"\n",
    "\n",
    "    for j in range(0,len(abecedario)):\n",
    "        if i<j:\n",
    "            result+=\" \"\n",
    "        else:\n",
    "            result+=abecedario[j]\n",
    "    linea.append(result)\n",
    "\n",
    "    print(result)\n",
    "\n",
    "for i in range(len(linea)-1,0):\n",
    "    print(linea[i-1])"
   ]
  },
  {
   "cell_type": "code",
   "execution_count": null,
   "metadata": {},
   "outputs": [],
   "source": []
  }
 ],
 "metadata": {
  "kernelspec": {
   "display_name": "Python 3",
   "language": "python",
   "name": "python3"
  },
  "language_info": {
   "codemirror_mode": {
    "name": "ipython",
    "version": 3
   },
   "file_extension": ".py",
   "mimetype": "text/x-python",
   "name": "python",
   "nbconvert_exporter": "python",
   "pygments_lexer": "ipython3",
   "version": "3.7.0"
  }
 },
 "nbformat": 4,
 "nbformat_minor": 2
}
